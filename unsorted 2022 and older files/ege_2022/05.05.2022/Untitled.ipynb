{
  "cells": [
    {
      "cell_type": "markdown",
      "id": "070b5e3b",
      "metadata": {
        "cell_style": "center"
      },
      "source": [
        "[\u0412\u0430\u0440\u0438\u0430\u043d\u0442](https://inf-ege.sdamgia.ru/test?id=10699463)"
      ]
    },
    {
      "cell_type": "markdown",
      "id": "5848b83c",
      "metadata": {},
      "source": [
        "# 25\n"
      ]
    },
    {
      "cell_type": "code",
      "execution_count": 1,
      "id": "535bb7bd",
      "metadata": {
        "ExecuteTime": {
          "end_time": "2022-05-05T17:43:37.927534Z",
          "start_time": "2022-05-05T17:06:07.476872Z"
        }
      },
      "outputs": [
        {
          "name": "stdout",
          "output_type": "stream",
          "text": [
            "35819648 38950081 39037448 39337984\n"
          ]
        }
      ],
      "source": [
        "result = list()\n",
        "for i in range(35_000_000, 40_000_000):\n",
        "    x = i\n",
        "    while x % 2 == 0:\n",
        "        x //= 2\n",
        "    divs = list()\n",
        "    for j in range(1, int(x**0.5) + 1, 2):\n",
        "        if x % j == 0:\n",
        "            divs.append(j)\n",
        "            if j != (x / j):\n",
        "                divs.append(x // j)\n",
        "    if len(divs) == 5:\n",
        "        result.append(i)\n",
        "\n",
        "print(*result)"
      ]
    },
    {
      "cell_type": "markdown",
      "id": "960fbc5a",
      "metadata": {},
      "source": [
        "#    24"
      ]
    },
    {
      "cell_type": "code",
      "execution_count": 2,
      "id": "2b267f95",
      "metadata": {
        "ExecuteTime": {
          "end_time": "2022-05-05T17:43:39.498032Z",
          "start_time": "2022-05-05T17:43:39.473608Z"
        }
      },
      "outputs": [
        {
          "name": "stdout",
          "output_type": "stream",
          "text": [
            "T\n"
          ]
        }
      ],
      "source": [
        "allLines = []\n",
        "all_lines_g_count = []\n",
        "with open('24.txt', 'r') as f:\n",
        "    for i in f:\n",
        "        allLines.append(i)\n",
        "        all_lines_g_count.append(i.count('G'))\n",
        "\n",
        "max_g_str = allLines[all_lines_g_count.index(min(all_lines_g_count))]\n",
        "all_chars = [0 for _ in range(26)]\n",
        "for i in max_g_str:\n",
        "    if i.isalpha():\n",
        "        all_chars[ord(i)-ord('A')] += 1\n",
        "\n",
        "for i in range(25, -1, -1):\n",
        "    if all_chars[i]==max(all_chars):\n",
        "        print(chr(ord('A') + i))\n",
        "        break"
      ]
    },
    {
      "cell_type": "code",
      "execution_count": null,
      "id": "8ec1d169",
      "metadata": {},
      "outputs": [],
      "source": []
    }
  ],
  "metadata": {
    "hide_input": false,
    "kernelspec": {
      "display_name": "Python 3 (ipykernel)",
      "language": "python",
      "name": "python3"
    },
    "language_info": {
      "codemirror_mode": {
        "name": "ipython",
        "version": 3
      },
      "file_extension": ".py",
      "mimetype": "text/x-python",
      "name": "python",
      "nbconvert_exporter": "python",
      "pygments_lexer": "ipython3",
      "version": "3.8.12"
    },
    "latex_envs": {
      "LaTeX_envs_menu_present": true,
      "autoclose": false,
      "autocomplete": true,
      "bibliofile": "biblio.bib",
      "cite_by": "apalike",
      "current_citInitial": 1,
      "eqLabelWithNumbers": true,
      "eqNumInitial": 1,
      "hotkeys": {
        "equation": "Ctrl-E",
        "itemize": "Ctrl-I"
      },
      "labels_anchors": false,
      "latex_user_defs": false,
      "report_style_numbering": false,
      "user_envs_cfg": false
    },
    "nbTranslate": {
      "displayLangs": [
        "fr",
        "en"
      ],
      "hotkey": "alt-t",
      "langInMainMenu": true,
      "sourceLang": "en",
      "targetLang": "fr",
      "useGoogleTranslate": true
    },
    "toc": {
      "base_numbering": 1,
      "nav_menu": {},
      "number_sections": true,
      "sideBar": true,
      "skip_h1_title": false,
      "title_cell": "Table of Contents",
      "title_sidebar": "Contents",
      "toc_cell": false,
      "toc_position": {},
      "toc_section_display": true,
      "toc_window_display": false
    },
    "varInspector": {
      "cols": {
        "lenName": 16,
        "lenType": 16,
        "lenVar": 40
      },
      "kernels_config": {
        "python": {
          "delete_cmd_postfix": "",
          "delete_cmd_prefix": "del ",
          "library": "var_list.py",
          "varRefreshCmd": "print(var_dic_list())"
        },
        "r": {
          "delete_cmd_postfix": ") ",
          "delete_cmd_prefix": "rm(",
          "library": "var_list.r",
          "varRefreshCmd": "cat(var_dic_list()) "
        }
      },
      "position": {
        "height": "133.85px",
        "left": "1526px",
        "right": "20px",
        "top": "120px",
        "width": "158px"
      },
      "types_to_exclude": [
        "module",
        "function",
        "builtin_function_or_method",
        "instance",
        "_Feature"
      ],
      "window_display": false
    }
  },
  "nbformat": 4,
  "nbformat_minor": 5
}