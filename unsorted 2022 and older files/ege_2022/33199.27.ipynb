{
  "cells": [
    {
      "cell_type": "markdown",
      "id": "d7eacdef",
      "metadata": {},
      "source": [
        "![%D0%B8%D0%B7%D0%BE%D0%B1%D1%80%D0%B0%D0%B6%D0%B5%D0%BD%D0%B8%D0%B5.png](./33199.27/1.png)"
      ]
    },
    {
      "cell_type": "code",
      "execution_count": 9,
      "id": "a11f0fed",
      "metadata": {},
      "outputs": [],
      "source": [
        "with open('27-B.txt') as f:\n",
        "    a = [list(map(int, i.split())) for i in f]"
      ]
    },
    {
      "cell_type": "code",
      "execution_count": 17,
      "id": "a3236f07",
      "metadata": {},
      "outputs": [],
      "source": [
        "minVals = []\n",
        "midlleVals = []\n",
        "maxVals = []\n",
        "del(a[0])"
      ]
    },
    {
      "cell_type": "code",
      "execution_count": 18,
      "id": "7a0bd079",
      "metadata": {},
      "outputs": [],
      "source": [
        "for i in a:\n",
        "    i.sort()\n",
        "    minVals.append(i[0])\n",
        "    midlleVals.append(i[1])\n",
        "    maxVals.append(i[2])\n",
        "    \n",
        "# minVals.sort()\n",
        "# midlleVals.sort()\n",
        "# maxVals.sort()"
      ]
    },
    {
      "cell_type": "code",
      "execution_count": 19,
      "id": "fb52d5cd",
      "metadata": {},
      "outputs": [],
      "source": [
        "maxSorted = sorted(maxVals)"
      ]
    },
    {
      "cell_type": "code",
      "execution_count": 20,
      "id": "e1cf8044",
      "metadata": {},
      "outputs": [],
      "source": [
        "if sum(minVals + midlleVals) % 2 != 1:\n",
        "    for i in range(len(maxSorted)):\n",
        "        if minVals[maxVals.index(maxSorted[i])] % 2 != maxSorted[i] % 2:\n",
        "            maxVals[maxVals.index(maxSorted[i])] = minVals[maxVals.index(maxSorted[i])]\n",
        "            break\n",
        "        elif midlleVals[maxVals.index(maxSorted[i])] % 2 != maxSorted[i] % 2:\n",
        "            maxVals[maxVals.index(maxSorted[i])] = middleVals[maxVals.index(maxSorted[i])]\n",
        "            break"
      ]
    },
    {
      "cell_type": "code",
      "execution_count": 21,
      "id": "021add6d",
      "metadata": {},
      "outputs": [
        {
          "name": "stdout",
          "output_type": "stream",
          "text": [
            "300226286\n"
          ]
        }
      ],
      "source": [
        "print(sum(maxVals)) # \u0444\u0430\u0439\u043b a"
      ]
    },
    {
      "cell_type": "code",
      "execution_count": 11,
      "id": "3a0cadf6",
      "metadata": {},
      "outputs": [
        {
          "name": "stdout",
          "output_type": "stream",
          "text": [
            "300229226\n"
          ]
        }
      ],
      "source": [
        "print(sum(maxVals)) # \u0444\u0430\u0439\u043b b"
      ]
    },
    {
      "cell_type": "code",
      "execution_count": null,
      "id": "747d4e3d",
      "metadata": {},
      "outputs": [],
      "source": [
        "for i in range(len(maxSorted)):\n",
        "    if minVals[maxVals.index(maxSorted[i])] % 2 != maxSorted[i] % 2:\n",
        "        maxVals[maxVals.index(maxSorted[i])] = minVals[maxVals.index(maxSorted[i])]\n",
        "        break\n",
        "    elif midlleVals[maxVals.index(maxSorted[i])] % 2 != maxSorted[i] % 2:\n",
        "        maxVals[maxVals.index(maxSorted[i])] = middleVals[maxVals.index(maxSorted[i])]\n",
        "        break"
      ]
    },
    {
      "cell_type": "code",
      "execution_count": 8,
      "id": "96103efa",
      "metadata": {},
      "outputs": [
        {
          "data": {
            "text/plain": [
              "'\\nif sum(minVals + midlleVals) % 2 != 1:\\n    for i in range(len(maxVals)):\\n        if minVals[i] % 2 != maxVals[i] % 2:\\n            maxVals[i] = minVals[i]\\n            break\\n        elif midlleVals[i] % 2 != maxVals[i] % 2:\\n            maxVals[i] = midlleVals[i]\\n            break\\n'"
            ]
          },
          "execution_count": 8,
          "metadata": {},
          "output_type": "execute_result"
        }
      ],
      "source": [
        "\"\"\"\n",
        "if sum(minVals + midlleVals) % 2 != 1:\n",
        "    for i in range(len(maxVals)):\n",
        "        if minVals[i] % 2 != maxVals[i] % 2:\n",
        "            maxVals[i] = minVals[i]\n",
        "            break\n",
        "        elif midlleVals[i] % 2 != maxVals[i] % 2:\n",
        "            maxVals[i] = midlleVals[i]\n",
        "            break\n",
        "\"\"\""
      ]
    },
    {
      "cell_type": "code",
      "execution_count": null,
      "id": "fe16b2d4",
      "metadata": {},
      "outputs": [],
      "source": []
    }
  ],
  "metadata": {
    "kernelspec": {
      "display_name": "Python 3 (ipykernel)",
      "language": "python",
      "name": "python3"
    },
    "language_info": {
      "codemirror_mode": {
        "name": "ipython",
        "version": 3
      },
      "file_extension": ".py",
      "mimetype": "text/x-python",
      "name": "python",
      "nbconvert_exporter": "python",
      "pygments_lexer": "ipython3",
      "version": "3.8.12"
    }
  },
  "nbformat": 4,
  "nbformat_minor": 5
}