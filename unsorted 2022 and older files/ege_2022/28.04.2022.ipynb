{
  "cells": [
    {
      "cell_type": "code",
      "execution_count": 1,
      "id": "2b3f840e",
      "metadata": {},
      "outputs": [],
      "source": [
        "import numba\n",
        "from numba import jit, prange"
      ]
    },
    {
      "cell_type": "code",
      "execution_count": 2,
      "id": "baa7fd0e",
      "metadata": {},
      "outputs": [],
      "source": [
        "@jit(nopython=True)\n",
        "def f():\n",
        "    m = 950_000_000\n",
        "    result = list()\n",
        "    while len(result) < 5:\n",
        "        m += 2\n",
        "        # div2 = 1\n",
        "        div2 = [m]\n",
        "        # print(m)\n",
        "        for i in prange(2, int(m ** 0.5) + 1):\n",
        "            if m % i == 0:\n",
        "                if (m / i) % 2 == 0:\n",
        "                    # div2 += 1\n",
        "                    div2.append(m / i)\n",
        "                if i % 2 == 0 and i != (m / i):\n",
        "                    # div2 += 1\n",
        "                    div2.append(i)\n",
        "        # if div2 % 2 == 1:\n",
        "        if len(div2) % 2 == 1:\n",
        "            result.append(m - 950_000_000)\n",
        "            # print(m)\n",
        "            # print(result)\n",
        "            # print(div2)\n",
        "    return result\n"
      ]
    },
    {
      "cell_type": "code",
      "execution_count": 3,
      "id": "0e5ef399",
      "metadata": {},
      "outputs": [
        {
          "data": {
            "text/plain": [
              "[44050, 131232, 218418, 305608, 392802]"
            ]
          },
          "execution_count": 3,
          "metadata": {},
          "output_type": "execute_result"
        }
      ],
      "source": [
        "f()"
      ]
    },
    {
      "cell_type": "code",
      "execution_count": null,
      "id": "021bd13a",
      "metadata": {},
      "outputs": [],
      "source": [
        "%timeit f()"
      ]
    },
    {
      "cell_type": "code",
      "execution_count": 3,
      "id": "acf9e0be",
      "metadata": {},
      "outputs": [],
      "source": [
        "@jit(nopython=True, parallel=True)\n",
        "def f1():\n",
        "    m = 950_000_000\n",
        "    result = list()\n",
        "    while len(result) < 5:\n",
        "        m += 2\n",
        "        # div2 = 1\n",
        "        div2 = [m]\n",
        "        # print(m)\n",
        "        for i in prange(2, int(m ** 0.5) + 1):\n",
        "            if m % i == 0:\n",
        "                if (m / i) % 2 == 0:\n",
        "                    # div2 += 1\n",
        "                    div2.append(m / i)\n",
        "                if i % 2 == 0 and i != (m / i):\n",
        "                    # div2 += 1\n",
        "                    div2.append(i)\n",
        "        # if div2 % 2 == 1:\n",
        "        if len(div2) % 2 == 1:\n",
        "            result.append(m - 950_000_000)\n",
        "            # print(m)\n",
        "            # print(result)\n",
        "            # print(div2)\n",
        "    return result\n"
      ]
    },
    {
      "cell_type": "code",
      "execution_count": null,
      "id": "b4e8bc14",
      "metadata": {},
      "outputs": [],
      "source": [
        "%timeit f1()"
      ]
    },
    {
      "cell_type": "code",
      "execution_count": null,
      "id": "af082f50",
      "metadata": {},
      "outputs": [],
      "source": []
    },
    {
      "cell_type": "code",
      "execution_count": 1,
      "id": "8db0d552",
      "metadata": {},
      "outputs": [
        {
          "name": "stdout",
          "output_type": "stream",
          "text": [
            "Requirement already satisfied: numba in c:\\users\\anrie\\appdata\\roaming\\python\\python38\\site-packages (0.51.2)\n",
            "Requirement already satisfied: numpy>=1.15 in c:\\users\\anrie\\appdata\\roaming\\python\\python38\\site-packages (from numba) (1.19.4)\n",
            "Requirement already satisfied: setuptools in d:\\programs\\anaconda3\\lib\\site-packages (from numba) (58.0.4)\n",
            "Requirement already satisfied: llvmlite<0.35,>=0.34.0.dev0 in c:\\users\\anrie\\appdata\\roaming\\python\\python38\\site-packages (from numba) (0.34.0)\n"
          ]
        },
        {
          "name": "stderr",
          "output_type": "stream",
          "text": [
            "WARNING: You are using pip version 21.3.1; however, version 22.0.4 is available.\n",
            "You should consider upgrading via the 'D:\\Programs\\Anaconda3\\python.exe -m pip install --upgrade pip' command.\n"
          ]
        }
      ],
      "source": [
        "!pip install numba"
      ]
    }
  ],
  "metadata": {
    "kernelspec": {
      "display_name": "Python 3 (ipykernel)",
      "language": "python",
      "name": "python3"
    },
    "language_info": {
      "codemirror_mode": {
        "name": "ipython",
        "version": 3
      },
      "file_extension": ".py",
      "mimetype": "text/x-python",
      "name": "python",
      "nbconvert_exporter": "python",
      "pygments_lexer": "ipython3",
      "version": "3.8.12"
    }
  },
  "nbformat": 4,
  "nbformat_minor": 5
}