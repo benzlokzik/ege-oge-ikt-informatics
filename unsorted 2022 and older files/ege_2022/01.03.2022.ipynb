{
  "cells": [
    {
      "cell_type": "markdown",
      "id": "ab181a66",
      "metadata": {},
      "source": [
        "https://inf.reshuege.ru/problem?id=15834\n",
        "---"
      ]
    },
    {
      "cell_type": "code",
      "execution_count": 1,
      "id": "41c1bd1d",
      "metadata": {},
      "outputs": [],
      "source": [
        "def func(a, n):\n",
        "    if a > n:\n",
        "        return 0\n",
        "    elif a == n:\n",
        "        return 1\n",
        "    elif a == 31:\n",
        "        return 0\n",
        "    return func(a+1, n) + func(a*2, n)"
      ]
    },
    {
      "cell_type": "code",
      "execution_count": 2,
      "id": "8cf5f031",
      "metadata": {},
      "outputs": [
        {
          "name": "stdout",
          "output_type": "stream",
          "text": [
            "26\n"
          ]
        }
      ],
      "source": [
        "print(func(2, 15) * func(15, 35))"
      ]
    },
    {
      "cell_type": "markdown",
      "id": "23ca6ff1",
      "metadata": {},
      "source": [
        "---"
      ]
    },
    {
      "cell_type": "markdown",
      "id": "17549def",
      "metadata": {},
      "source": [
        "---\n",
        "https://inf.reshuege.ru/problem?id=17340\n",
        "---"
      ]
    },
    {
      "cell_type": "code",
      "execution_count": 3,
      "id": "4d6fc583",
      "metadata": {},
      "outputs": [],
      "source": [
        "def func2(a, n):\n",
        "    if a > n:\n",
        "        return 0\n",
        "    elif a == n:\n",
        "        return 1\n",
        "    elif a == 10:\n",
        "        return 0\n",
        "    return func2(a+1, n) + func2(a*2, n) + func2(a+5, n)"
      ]
    },
    {
      "cell_type": "code",
      "execution_count": 4,
      "id": "3215caad",
      "metadata": {},
      "outputs": [
        {
          "name": "stdout",
          "output_type": "stream",
          "text": [
            "45\n"
          ]
        }
      ],
      "source": [
        "print(func2(1, 8) * func2(8, 16))"
      ]
    }
  ],
  "metadata": {
    "kernelspec": {
      "display_name": "Python 3 (ipykernel)",
      "language": "python",
      "name": "python3"
    },
    "language_info": {
      "codemirror_mode": {
        "name": "ipython",
        "version": 3
      },
      "file_extension": ".py",
      "mimetype": "text/x-python",
      "name": "python",
      "nbconvert_exporter": "python",
      "pygments_lexer": "ipython3",
      "version": "3.8.12"
    }
  },
  "nbformat": 4,
  "nbformat_minor": 5
}