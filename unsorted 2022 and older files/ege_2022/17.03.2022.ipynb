{
  "cells": [
    {
      "cell_type": "markdown",
      "id": "393ff28a",
      "metadata": {},
      "source": [
        "![%D0%B8%D0%B7%D0%BE%D0%B1%D1%80%D0%B0%D0%B6%D0%B5%D0%BD%D0%B8%D0%B5.png](./17.03.2022/1.png)"
      ]
    },
    {
      "cell_type": "markdown",
      "id": "0c10c445",
      "metadata": {},
      "source": [
        "# \u041e\u0442\u0432\u0435\u0442: 4"
      ]
    },
    {
      "cell_type": "markdown",
      "id": "c006436e",
      "metadata": {},
      "source": [
        "![%D0%B8%D0%B7%D0%BE%D0%B1%D1%80%D0%B0%D0%B6%D0%B5%D0%BD%D0%B8%D0%B5.png](./17.03.2022/2.png)"
      ]
    },
    {
      "cell_type": "code",
      "execution_count": 2,
      "id": "c6d8c77f",
      "metadata": {},
      "outputs": [
        {
          "name": "stdout",
          "output_type": "stream",
          "text": [
            "Y\n"
          ]
        }
      ],
      "source": [
        "with open('24.txt', 'r') as f:\n",
        "    a = f.readline()\n",
        "\n",
        "allLetters = [0 for _ in range(26)]\n",
        "\n",
        "for i in range(len(a)-1):\n",
        "    if a[i] == 'E':\n",
        "        allLetters[ord(a[i+1]) - ord('A')] += 1\n",
        "        \n",
        "print(chr(allLetters.index(max(allLetters))+ord('A')))"
      ]
    },
    {
      "cell_type": "markdown",
      "id": "ea8a4609",
      "metadata": {},
      "source": [
        "![%D0%B8%D0%B7%D0%BE%D0%B1%D1%80%D0%B0%D0%B6%D0%B5%D0%BD%D0%B8%D0%B5.png](./17.03.2022/3.png)"
      ]
    },
    {
      "cell_type": "code",
      "execution_count": 9,
      "id": "34c4e180",
      "metadata": {},
      "outputs": [
        {
          "name": "stdout",
          "output_type": "stream",
          "text": [
            "[[700005, 233338], [700007, 100008], [700012, 350008], [700015, 140008], [700031, 24168]]\n"
          ]
        }
      ],
      "source": [
        "allVals = []\n",
        "\n",
        "counter = 700000\n",
        "while len(allVals) < 5:\n",
        "    for i in range(2, round(counter**0.5)):\n",
        "        if counter%i == 0:\n",
        "            if (counter//i + i)%10 == 8:\n",
        "                allVals.append([counter, counter//i + i])\n",
        "            break\n",
        "    counter += 1\n",
        "print(allVals)"
      ]
    },
    {
      "cell_type": "code",
      "execution_count": null,
      "id": "30ddc0f5",
      "metadata": {},
      "outputs": [],
      "source": []
    }
  ],
  "metadata": {
    "kernelspec": {
      "display_name": "Python 3 (ipykernel)",
      "language": "python",
      "name": "python3"
    },
    "language_info": {
      "codemirror_mode": {
        "name": "ipython",
        "version": 3
      },
      "file_extension": ".py",
      "mimetype": "text/x-python",
      "name": "python",
      "nbconvert_exporter": "python",
      "pygments_lexer": "ipython3",
      "version": "3.8.12"
    }
  },
  "nbformat": 4,
  "nbformat_minor": 5
}